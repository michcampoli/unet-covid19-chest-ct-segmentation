{
  "nbformat": 4,
  "nbformat_minor": 0,
  "metadata": {
    "colab": {
      "provenance": []
    },
    "kernelspec": {
      "name": "python3",
      "display_name": "Python 3"
    },
    "language_info": {
      "name": "python"
    }
  },
  "cells": [
    {
      "cell_type": "code",
      "source": [
        "import os\n",
        "import glob\n",
        "import numpy as np\n",
        "import nibabel as ni\n",
        "\n",
        "import matplotlib.pyplot as plt"
      ],
      "metadata": {
        "id": "qeVOCWSoeMtv"
      },
      "execution_count": null,
      "outputs": []
    },
    {
      "cell_type": "code",
      "source": [
        "from google.colab import drive\n",
        "drive.mount('/content/drive')"
      ],
      "metadata": {
        "colab": {
          "base_uri": "https://localhost:8080/"
        },
        "id": "TFK6LmJzEfTS",
        "outputId": "d0b9a73b-682a-4d0c-a516-fc21038f3f0d"
      },
      "execution_count": null,
      "outputs": [
        {
          "output_type": "stream",
          "name": "stdout",
          "text": [
            "Mounted at /content/drive\n"
          ]
        }
      ]
    },
    {
      "cell_type": "code",
      "source": [
        "Root_Dir = '/content/drive/MyDrive/BMEN4460 DL in BMI Final Project/DL_data'"
      ],
      "metadata": {
        "id": "kN1n0AePe_lu"
      },
      "execution_count": null,
      "outputs": []
    },
    {
      "cell_type": "code",
      "source": [
        "!nvidia-smi"
      ],
      "metadata": {
        "id": "uOwL2jZeKC_7",
        "outputId": "ecf044a6-a478-4df6-c847-38ae05d2ea81",
        "colab": {
          "base_uri": "https://localhost:8080/"
        }
      },
      "execution_count": null,
      "outputs": [
        {
          "output_type": "stream",
          "name": "stdout",
          "text": [
            "NVIDIA-SMI has failed because it couldn't communicate with the NVIDIA driver. Make sure that the latest NVIDIA driver is installed and running.\n",
            "\n"
          ]
        }
      ]
    },
    {
      "cell_type": "markdown",
      "source": [
        "# **train**"
      ],
      "metadata": {
        "id": "mfjQnafz0pd4"
      }
    },
    {
      "cell_type": "code",
      "source": [
        "train_data_path = list()\n",
        "\n",
        "for i in range(120):\n",
        "  ct_path = f'{Root_Dir}/Train/image/Train_v{i+1:04}_ct.nii.gz'\n",
        "  msk_path = f'{Root_Dir}/Train/mask/Train_v{i+1:04}_seg.nii.gz'\n",
        "\n",
        "  train_data_path.append((ct_path, msk_path))\n",
        "  \n",
        "len(train_data_path)"
      ],
      "metadata": {
        "colab": {
          "base_uri": "https://localhost:8080/"
        },
        "id": "_sAJ-n3feeHf",
        "outputId": "bd526b76-0efe-4ece-fed7-4025792c7428"
      },
      "execution_count": null,
      "outputs": [
        {
          "output_type": "execute_result",
          "data": {
            "text/plain": [
              "120"
            ]
          },
          "metadata": {},
          "execution_count": 4
        }
      ]
    },
    {
      "cell_type": "code",
      "source": [
        "train_data_path[0]"
      ],
      "metadata": {
        "colab": {
          "base_uri": "https://localhost:8080/"
        },
        "id": "AFFH34cjGa9t",
        "outputId": "5b09c288-c1b9-4b28-a18e-9e57c2632c3f"
      },
      "execution_count": null,
      "outputs": [
        {
          "output_type": "execute_result",
          "data": {
            "text/plain": [
              "('/content/drive/MyDrive/BMEN4460 DL in BMI Final Project/DL_data/Train/image/Train_v0001_ct.nii.gz',\n",
              " '/content/drive/MyDrive/BMEN4460 DL in BMI Final Project/DL_data/Train/mask/Train_v0001_seg.nii.gz')"
            ]
          },
          "metadata": {},
          "execution_count": 5
        }
      ]
    },
    {
      "cell_type": "code",
      "source": [
        "index = 10"
      ],
      "metadata": {
        "id": "ESSn1xLw05ba"
      },
      "execution_count": null,
      "outputs": []
    },
    {
      "cell_type": "code",
      "source": [
        "ct_img = ni.load(train_data_path[index][0]).get_fdata()\n",
        "msk_img = ni.load(train_data_path[index][1]).get_fdata()"
      ],
      "metadata": {
        "id": "9LU19zK5f9Fk"
      },
      "execution_count": null,
      "outputs": []
    },
    {
      "cell_type": "markdown",
      "source": [
        "# **test**"
      ],
      "metadata": {
        "id": "k1FK6Q020rmH"
      }
    },
    {
      "cell_type": "code",
      "source": [
        "test_data_path = list()\n",
        "\n",
        "for i in range(79):\n",
        "  ct_path = f'{Root_Dir}/Test/image/Test_v{i+1:04}_ct.nii.gz'\n",
        "  msk_path = f'{Root_Dir}/Test/mask/Test_v{i+1:04}_seg.nii.gz'\n",
        "\n",
        "  test_data_path.append((ct_path, msk_path))\n",
        "  \n",
        "len(test_data_path)"
      ],
      "metadata": {
        "colab": {
          "base_uri": "https://localhost:8080/"
        },
        "id": "fDkRvTaNzml5",
        "outputId": "50923aaf-1878-4e4c-f3b6-ef4f29242c81"
      },
      "execution_count": null,
      "outputs": [
        {
          "output_type": "execute_result",
          "data": {
            "text/plain": [
              "79"
            ]
          },
          "metadata": {},
          "execution_count": 15
        }
      ]
    },
    {
      "cell_type": "code",
      "source": [
        "test_data_path[0]"
      ],
      "metadata": {
        "colab": {
          "base_uri": "https://localhost:8080/"
        },
        "id": "_ZRxjpt60f6j",
        "outputId": "f226ee2c-bf88-4e2b-d4e8-60e85e9f8e75"
      },
      "execution_count": null,
      "outputs": [
        {
          "output_type": "execute_result",
          "data": {
            "text/plain": [
              "('/content/drive/MyDrive/BMEN4460 DL in BMI Final Project/DL_data/Test/image/Test_v0001_ct.nii.gz',\n",
              " '/content/drive/MyDrive/BMEN4460 DL in BMI Final Project/DL_data/Test/mask/Test_v0001_seg.nii.gz')"
            ]
          },
          "metadata": {},
          "execution_count": 11
        }
      ]
    },
    {
      "cell_type": "code",
      "source": [
        "index = 10"
      ],
      "metadata": {
        "id": "vclqch-gf4Cj"
      },
      "execution_count": null,
      "outputs": []
    },
    {
      "cell_type": "code",
      "source": [
        "ct_img = ni.load(test_data_path[index][0]).get_fdata()\n",
        "msk_img = ni.load(test_data_path[index][1]).get_fdata()"
      ],
      "metadata": {
        "id": "Smb4wR6Q0wRa"
      },
      "execution_count": null,
      "outputs": []
    },
    {
      "cell_type": "markdown",
      "source": [
        "optional for plotting purposes:"
      ],
      "metadata": {
        "id": "8HWxHnDy2Lsl"
      }
    },
    {
      "cell_type": "code",
      "source": [
        "ct_img[ct_img < -1024] = -1024\n",
        "ct_img[ct_img > 400] = 400\n",
        "ct_img = (ct_img+1024)/(1024 + 400)"
      ],
      "metadata": {
        "id": "0Xm56-mkg6qt"
      },
      "execution_count": null,
      "outputs": []
    },
    {
      "cell_type": "markdown",
      "source": [
        "# **validation**"
      ],
      "metadata": {
        "id": "WZaTVbgN09_E"
      }
    },
    {
      "cell_type": "code",
      "source": [
        "val_data_path = list()\n",
        "\n",
        "for i in range(50):\n",
        "  ct_path = f'{Root_Dir}/Validation/image/Validation_v{i+1:04}_ct.nii.gz'\n",
        "  msk_path = f'{Root_Dir}/Validation/mask/Validation_v{i+1:04}_seg.nii.gz'\n",
        "\n",
        "  val_data_path.append((ct_path, msk_path))\n",
        "  \n",
        "len(val_data_path)"
      ],
      "metadata": {
        "colab": {
          "base_uri": "https://localhost:8080/"
        },
        "id": "lMQcVFWC09OY",
        "outputId": "7388723f-eada-4868-c735-6515a8ba9f79"
      },
      "execution_count": null,
      "outputs": [
        {
          "output_type": "execute_result",
          "data": {
            "text/plain": [
              "50"
            ]
          },
          "metadata": {},
          "execution_count": 8
        }
      ]
    },
    {
      "cell_type": "code",
      "source": [
        "val_data_path[0]"
      ],
      "metadata": {
        "colab": {
          "base_uri": "https://localhost:8080/"
        },
        "id": "ciBlSND21GNp",
        "outputId": "36ed25b3-c4c9-4609-d4f1-be2fe2b1ce36"
      },
      "execution_count": null,
      "outputs": [
        {
          "output_type": "execute_result",
          "data": {
            "text/plain": [
              "('/content/drive/MyDrive/BMEN4460 DL in BMI Final Project/DL_data/Validation/image/Validation_v0001_ct.nii.gz',\n",
              " '/content/drive/MyDrive/BMEN4460 DL in BMI Final Project/DL_data/Validation/mask/Validation_v0001_seg.nii.gz')"
            ]
          },
          "metadata": {},
          "execution_count": 9
        }
      ]
    },
    {
      "cell_type": "code",
      "source": [
        "index = 10"
      ],
      "metadata": {
        "id": "MmxviNR_1IJJ"
      },
      "execution_count": null,
      "outputs": []
    },
    {
      "cell_type": "code",
      "source": [
        "ct_img = ni.load(val_data_path[index][0]).get_fdata()\n",
        "msk_img = ni.load(val_data_path[index][1]).get_fdata()"
      ],
      "metadata": {
        "id": "8Jd1ZXz_1Kar"
      },
      "execution_count": null,
      "outputs": []
    },
    {
      "cell_type": "markdown",
      "source": [
        "optional for plotting purposes:"
      ],
      "metadata": {
        "id": "ziZymCP22H8A"
      }
    },
    {
      "cell_type": "code",
      "source": [
        "ct_img[ct_img < -1024] = -1024\n",
        "ct_img[ct_img > 400] = 400\n",
        "ct_img = (ct_img+1024)/(1024 + 400)"
      ],
      "metadata": {
        "id": "rbsGFqej1LtC"
      },
      "execution_count": null,
      "outputs": []
    },
    {
      "cell_type": "markdown",
      "source": [
        "# **plot**"
      ],
      "metadata": {
        "id": "GT-wR3Zw1NRz"
      }
    },
    {
      "cell_type": "code",
      "source": [
        "slice_num = 25\n",
        "\n",
        "plt.figure(figsize=(12,8))\n",
        "plt.subplot(1,2,1)\n",
        "plt.imshow(np.rot90(ct_img[:,:,slice_num], k=-1), cmap='gray')\n",
        "plt.axis('off')\n",
        "\n",
        "plt.subplot(1,2,2)\n",
        "plt.imshow(np.rot90(msk_img[:,:,slice_num], k=-1), cmap='gray')\n",
        "plt.axis('off')\n",
        "\n",
        "plt.show()\n"
      ],
      "metadata": {
        "colab": {
          "base_uri": "https://localhost:8080/",
          "height": 334
        },
        "id": "a5_LKqbwg-3i",
        "outputId": "502e201e-deb9-42fd-af62-88a6522deb54"
      },
      "execution_count": null,
      "outputs": [
        {
          "output_type": "display_data",
          "data": {
            "text/plain": [
              "<Figure size 864x576 with 2 Axes>"
            ],
            "image/png": "[encoded data removed]"
          },
          "metadata": {
            "needs_background": "light"
          }
        }
      ]
    },
    {
      "cell_type": "markdown",
      "source": [
        "# **make train/val/test pairs**"
      ],
      "metadata": {
        "id": "a1eQ4hsY1PHi"
      }
    },
    {
      "cell_type": "code",
      "source": [
        "# /content/drive/MyDrive/BMEN4460 DL in BMI Final Project/DL_data"
      ],
      "metadata": {
        "id": "G1xDV0bGcNZ-"
      },
      "execution_count": null,
      "outputs": []
    },
    {
      "cell_type": "code",
      "source": [
        "# !rm -r /content/drive/MyDrive/BMEN4460\\ DL\\ in\\ BMI\\ Final\\ Project/DL_data/Train/PairedData"
      ],
      "metadata": {
        "id": "0HGbZKSib6Xm"
      },
      "execution_count": null,
      "outputs": []
    },
    {
      "cell_type": "code",
      "source": [
        "# train_pairs = list()\n",
        "# test_pairs = list()\n",
        "val_pairs = list()\n",
        "\n",
        "counter = 0\n",
        "for i in range(50): # 120 79 50\n",
        "  # ct_img = ni.load(train_data_path[i][0]).get_fdata()\n",
        "  # ct_img = ni.load(test_data_path[i][0]).get_fdata()\n",
        "  ct_img = ni.load(val_data_path[i][0]).get_fdata()\n",
        "  ct_img[ct_img < -1024] = -1024\n",
        "  ct_img[ct_img > 400] = 400\n",
        "  ct_img = (ct_img+1024)/(1024 + 400)\n",
        "\n",
        "  # msk_img = ni.load(train_data_path[i][1]).get_fdata()\n",
        "  # msk_img = ni.load(test_data_path[i][1]).get_fdata()\n",
        "  msk_img = ni.load(val_data_path[i][1]).get_fdata()\n",
        "\n",
        "  for j in range(msk_img.shape[-1]):\n",
        "    if msk_img[:,:,j].sum() >= 1:\n",
        "      # train_pairs.append((ct_img[:,:,j], msk_img[:,:,j]))\n",
        "      # test_pairs.append((ct_img[:,:,j], msk_img[:,:,j]))\n",
        "      val_pairs.append((ct_img[:,:,j], msk_img[:,:,j]))\n",
        "\n",
        "      if len(val_pairs) == 32: #train_pairs test_pairs val_pairs\n",
        "        # counter += 1\n",
        "        # np.random.shuffle(train_pairs)\n",
        "        # train_pairs = np.array(train_pairs)\n",
        "        # np.save(f'{Root_Dir}/Train/PairedData/Data_pairs_{counter:03}.npy', train_pairs)\n",
        "        # train_pairs = list()\n",
        "\n",
        "        # counter += 1\n",
        "        # np.random.shuffle(test_pairs)\n",
        "        # test_pairs = np.array(test_pairs)\n",
        "        # np.save(f'{Root_Dir}/Test/PairedData/Data_pairs_{counter:03}.npy', test_pairs)\n",
        "        # test_pairs = list()\n",
        "\n",
        "        counter += 1\n",
        "        np.random.shuffle(val_pairs)\n",
        "        val_pairs = np.array(val_pairs)\n",
        "        np.save(f'{Root_Dir}/Validation/PairedData/Data_pairs_{counter:03}.npy', val_pairs)\n",
        "        val_pairs = list()\n",
        "\n",
        "  print(f'{(i+1)/120:.2%} - {counter}   ')"
      ],
      "metadata": {
        "colab": {
          "base_uri": "https://localhost:8080/"
        },
        "id": "M35rtG1VhDdE",
        "outputId": "23fa47e4-4f16-4e01-8266-c4856d2f85b3"
      },
      "execution_count": null,
      "outputs": [
        {
          "output_type": "stream",
          "name": "stdout",
          "text": [
            "0.83% - 0   \n",
            "1.67% - 1   \n",
            "2.50% - 1   \n",
            "3.33% - 1   \n",
            "4.17% - 2   \n",
            "5.00% - 5   \n",
            "5.83% - 7   \n",
            "6.67% - 8   \n",
            "7.50% - 9   \n",
            "8.33% - 9   \n",
            "9.17% - 10   \n",
            "10.00% - 10   \n",
            "10.83% - 10   \n",
            "11.67% - 11   \n",
            "12.50% - 14   \n",
            "13.33% - 15   \n",
            "14.17% - 15   \n",
            "15.00% - 16   \n",
            "15.83% - 17   \n",
            "16.67% - 17   \n",
            "17.50% - 17   \n",
            "18.33% - 18   \n",
            "19.17% - 18   \n",
            "20.00% - 19   \n",
            "20.83% - 20   \n",
            "21.67% - 21   \n",
            "22.50% - 22   \n",
            "23.33% - 23   \n",
            "24.17% - 24   \n",
            "25.00% - 25   \n",
            "25.83% - 26   \n",
            "26.67% - 26   \n",
            "27.50% - 28   \n",
            "28.33% - 29   \n",
            "29.17% - 29   \n",
            "30.00% - 30   \n",
            "30.83% - 32   \n",
            "31.67% - 32   \n",
            "32.50% - 33   \n",
            "33.33% - 34   \n",
            "34.17% - 35   \n",
            "35.00% - 36   \n",
            "35.83% - 40   \n",
            "36.67% - 41   \n",
            "37.50% - 42   \n",
            "38.33% - 42   \n",
            "39.17% - 43   \n",
            "40.00% - 44   \n",
            "40.83% - 44   \n",
            "41.67% - 45   \n"
          ]
        }
      ]
    },
    {
      "cell_type": "code",
      "source": [
        "len(val_pairs)"
      ],
      "metadata": {
        "id": "Y_vzqunblF6T"
      },
      "execution_count": null,
      "outputs": []
    },
    {
      "cell_type": "code",
      "source": [
        "# TRAIN\n",
        "\n",
        "counter = 0\n",
        "for i, (ct_file, seg_file) in enumerate(train_data_path):\n",
        "  ct_img = ni.load(ct_file).get_fdata()\n",
        "  ct_img[ct_img < -1024] = -1024\n",
        "  ct_img[ct_img > 400] = 400\n",
        "  ct_img = (ct_img+1024)/(1024 + 400)\n",
        "\n",
        "  assert ct_img.shape[0] == 512 and ct_img.shape[1] == 512, f'Size error in {ct_file}, shape is {ct_img.shape}'\n",
        "\n",
        "  msk_img = (ni.load(seg_file).get_fdata() > 0.5).astype('int')\n",
        "\n",
        "  for j in range(msk_img.shape[-1]):\n",
        "    if msk_img[:,:,j].sum() >= 1:\n",
        "      counter += 1\n",
        "      np.save(f'{Root_Dir}/Train/PairedData/Train_pairs_{counter:04}.npy', np.array((ct_img[:,:,j],msk_img[:,:,j])))\n",
        "\n",
        "  # if i == 1:\n",
        "  #   break\n",
        "\n",
        "  print(f'{(i+1)/len(train_data_path):.2%} - {counter}   ', end='\\r')"
      ],
      "metadata": {
        "colab": {
          "base_uri": "https://localhost:8080/"
        },
        "id": "8FBFooCEo5ND",
        "outputId": "e3ca23c6-2d59-4fc6-8671-6a40a9e2f0df"
      },
      "execution_count": null,
      "outputs": [
        {
          "output_type": "stream",
          "name": "stdout",
          "text": [
            ""
          ]
        }
      ]
    },
    {
      "cell_type": "code",
      "source": [
        "# VALIDATION\n",
        "\n",
        "counter = 0\n",
        "for i, (ct_file, seg_file) in enumerate(val_data_path):\n",
        "  ct_img = ni.load(ct_file).get_fdata()\n",
        "  ct_img[ct_img < -1024] = -1024\n",
        "  ct_img[ct_img > 400] = 400\n",
        "  ct_img = (ct_img+1024)/(1024 + 400)\n",
        "\n",
        "  assert ct_img.shape[0] == 512 and ct_img.shape[1] == 512, f'Size error in {ct_file}, shape is {ct_img.shape}'\n",
        "\n",
        "  msk_img = (ni.load(seg_file).get_fdata() > 0.5).astype('int')\n",
        "\n",
        "  for j in range(msk_img.shape[-1]):\n",
        "    if msk_img[:,:,j].sum() >= 1:\n",
        "      counter += 1\n",
        "      np.save(f'{Root_Dir}/Validation/PairedData/Valid_pairs_{counter:04}.npy', np.array((ct_img[:,:,j],msk_img[:,:,j])))\n",
        "\n",
        "  # if i == 1:\n",
        "  #   break\n",
        "\n",
        "  print(f'{(i+1)/len(val_data_path):.2%} - {counter}   ', end='\\r')"
      ],
      "metadata": {
        "colab": {
          "base_uri": "https://localhost:8080/"
        },
        "id": "C1ZtfWFXr9KS",
        "outputId": "3b600547-fd60-44cf-b2c5-1dd98fa40bed"
      },
      "execution_count": null,
      "outputs": [
        {
          "output_type": "stream",
          "name": "stdout",
          "text": [
            ""
          ]
        }
      ]
    },
    {
      "cell_type": "code",
      "source": [
        "# TEST\n",
        "\n",
        "counter = 0\n",
        "for i, (ct_file, seg_file) in enumerate(test_data_path):\n",
        "  ct_img = ni.load(ct_file).get_fdata()\n",
        "  ct_img[ct_img < -1024] = -1024\n",
        "  ct_img[ct_img > 400] = 400\n",
        "  ct_img = (ct_img+1024)/(1024 + 400)\n",
        "\n",
        "  assert ct_img.shape[0] == 512 and ct_img.shape[1] == 512, f'Size error in {ct_file}, shape is {ct_img.shape}'\n",
        "\n",
        "  msk_img = (ni.load(seg_file).get_fdata() > 0.5).astype('int')\n",
        "\n",
        "  for j in range(msk_img.shape[-1]):\n",
        "    if msk_img[:,:,j].sum() >= 1:\n",
        "      counter += 1\n",
        "      np.save(f'{Root_Dir}/Test/PairedData/Test_pairs_{counter:04}.npy', np.array((ct_img[:,:,j],msk_img[:,:,j])))\n",
        "\n",
        "  # if i == 1:\n",
        "  #   break\n",
        "\n",
        "  print(f'{(i+1)/len(test_data_path):.2%} - {counter}   ', end='\\r')"
      ],
      "metadata": {
        "colab": {
          "base_uri": "https://localhost:8080/"
        },
        "id": "qxj7PMSXOFCi",
        "outputId": "e7a2574a-8a40-4d0a-8e6b-1b690bb8a314"
      },
      "execution_count": null,
      "outputs": [
        {
          "output_type": "stream",
          "name": "stdout",
          "text": [
            ""
          ]
        }
      ]
    },
    {
      "cell_type": "markdown",
      "source": [
        "# **plot a train/val/test pair**"
      ],
      "metadata": {
        "id": "SxJkHmOa1TKX"
      }
    },
    {
      "cell_type": "code",
      "source": [
        "a = np.load(f'{Root_Dir}/Validation/PairedValidationData/Validation_pairs_001.npy', allow_pickle=True)"
      ],
      "metadata": {
        "id": "kyU6WbhZl_Xu"
      },
      "execution_count": null,
      "outputs": []
    },
    {
      "cell_type": "code",
      "source": [
        "sample_num = 25\n",
        "\n",
        "plt.figure(figsize=(12,8))\n",
        "plt.subplot(1,2,1)\n",
        "plt.imshow(np.rot90(a[sample_num, 0, :,:], k=-1), cmap='gray')\n",
        "plt.axis('off')\n",
        "\n",
        "plt.subplot(1,2,2)\n",
        "plt.imshow(np.rot90(a[sample_num, 1, :,:], k=-1), cmap='gray')\n",
        "plt.axis('off')\n",
        "\n",
        "plt.show()"
      ],
      "metadata": {
        "id": "izs0KZvzrDsv"
      },
      "execution_count": null,
      "outputs": []
    },
    {
      "cell_type": "code",
      "source": [],
      "metadata": {
        "id": "Zntlm52krEn7"
      },
      "execution_count": null,
      "outputs": []
    }
  ]
}